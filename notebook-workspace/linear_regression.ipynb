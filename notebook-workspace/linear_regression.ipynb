{
 "cells": [
  {
   "cell_type": "code",
   "execution_count": 1,
   "id": "620fdfb7-a6ed-478f-8ab3-a1fca93a5c40",
   "metadata": {},
   "outputs": [],
   "source": [
    "import torch\n",
    "import torch.nn as nn\n",
    "import torch.nn.functional as F\n",
    "import torch.optim as optim"
   ]
  },
  {
   "cell_type": "markdown",
   "id": "deea3f59-55bd-47c0-8510-410402ae70fc",
   "metadata": {},
   "source": [
    "# 선형 회귀"
   ]
  },
  {
   "cell_type": "code",
   "execution_count": 2,
   "id": "8d91a8ec-7b03-4b68-b370-a0c3f0a007fa",
   "metadata": {},
   "outputs": [
    {
     "data": {
      "text/plain": [
       "<torch._C.Generator at 0x7fa64005fdb0>"
      ]
     },
     "execution_count": 2,
     "metadata": {},
     "output_type": "execute_result"
    }
   ],
   "source": [
    "torch.manual_seed(777) # 랜덤 seed 설정"
   ]
  },
  {
   "cell_type": "code",
   "execution_count": 3,
   "id": "d24e0e6c-003e-4592-856e-bae38ab6d34f",
   "metadata": {},
   "outputs": [],
   "source": [
    "x_train = torch.FloatTensor([[1], [2], [3]])\n",
    "y_train = torch.FloatTensor([[2], [4], [6]])"
   ]
  },
  {
   "cell_type": "code",
   "execution_count": 24,
   "id": "fb18b974-e632-4ee7-b906-2d3841fe2c13",
   "metadata": {},
   "outputs": [
    {
     "name": "stdout",
     "output_type": "stream",
     "text": [
      "Epoch    0/1000 W: 0.010, b: 0.010 Cost: 18.666666\n",
      "Epoch  100/1000 W: 0.857, b: 0.847 Cost: 3.003903\n",
      "Epoch  200/1000 W: 1.275, b: 1.210 Cost: 0.414147\n",
      "Epoch  300/1000 W: 1.412, b: 1.250 Cost: 0.236496\n",
      "Epoch  400/1000 W: 1.465, b: 1.182 Cost: 0.203832\n",
      "Epoch  500/1000 W: 1.507, b: 1.093 Cost: 0.173795\n",
      "Epoch  600/1000 W: 1.550, b: 0.998 Cost: 0.145013\n",
      "Epoch  700/1000 W: 1.593, b: 0.902 Cost: 0.118445\n",
      "Epoch  800/1000 W: 1.636, b: 0.807 Cost: 0.094712\n",
      "Epoch  900/1000 W: 1.678, b: 0.713 Cost: 0.074131\n"
     ]
    }
   ],
   "source": [
    "W = torch.zeros(1, requires_grad=True)\n",
    "b = torch.zeros(1, requires_grad=True)\n",
    "optimizer = optim.Adam([W, b], lr=0.01)\n",
    "\n",
    "epochs = 1000\n",
    "for epoch in range(epochs):\n",
    "    hypothesis = x_train * W + b\n",
    "    \n",
    "    cost = torch.mean((hypothesis - y_train) ** 2)\n",
    "    \n",
    "    optimizer.zero_grad()\n",
    "    cost.backward()\n",
    "    optimizer.step()\n",
    "    if epoch % 100 == 0:\n",
    "        print('Epoch {:4d}/{} W: {:.3f}, b: {:.3f} Cost: {:.6f}'.format(\n",
    "            epoch, epochs, W.item(), b.item(), cost.item()\n",
    "        ))\n",
    "    "
   ]
  },
  {
   "cell_type": "markdown",
   "id": "7aa6492e-03b8-4655-b458-e6f67ea2991f",
   "metadata": {},
   "source": [
    "# nn을 사용한 선형 회귀"
   ]
  },
  {
   "cell_type": "code",
   "execution_count": 19,
   "id": "4fa66679-7346-4b63-9031-d401aa46cf43",
   "metadata": {},
   "outputs": [],
   "source": [
    "import torch\n",
    "import torch.nn as nn\n",
    "import torch.nn.functional as F\n"
   ]
  },
  {
   "cell_type": "code",
   "execution_count": 22,
   "id": "ce01e749-84ee-44ec-acba-77a01a0a7b63",
   "metadata": {},
   "outputs": [
    {
     "name": "stdout",
     "output_type": "stream",
     "text": [
      "[Parameter containing:\n",
      "tensor([[-0.8362]], requires_grad=True), Parameter containing:\n",
      "tensor([-0.0177], requires_grad=True)]\n"
     ]
    }
   ],
   "source": [
    "print(list(model.parameters()))"
   ]
  },
  {
   "cell_type": "code",
   "execution_count": 32,
   "id": "c3b934e2-0518-46b3-a0db-653133dc563b",
   "metadata": {},
   "outputs": [
    {
     "name": "stdout",
     "output_type": "stream",
     "text": [
      "Epoch  100/1000 Cost: 0.033940\n",
      "Epoch  200/1000 Cost: 0.020973\n",
      "Epoch  300/1000 Cost: 0.012960\n",
      "Epoch  400/1000 Cost: 0.008008\n",
      "Epoch  500/1000 Cost: 0.004949\n",
      "Epoch  600/1000 Cost: 0.003058\n",
      "Epoch  700/1000 Cost: 0.001890\n",
      "Epoch  800/1000 Cost: 0.001168\n",
      "Epoch  900/1000 Cost: 0.000722\n",
      "Epoch 1000/1000 Cost: 0.000446\n"
     ]
    }
   ],
   "source": [
    "model = nn.Linear(1,1)\n",
    "optimizer = torch.optim.SGD(model.parameters(), lr=0.01)\n",
    "\n",
    "epoch_count = 1000\n",
    "\n",
    "for epoch in range(epoch_count):\n",
    "    \n",
    "    prediction = model(x_train)\n",
    "    \n",
    "    cost = F.mse_loss(prediction, y_train)\n",
    "    \n",
    "    optimizer.zero_grad()\n",
    "    \n",
    "    cost.backward()\n",
    "    \n",
    "    optimizer.step()\n",
    "    if (epoch + 1) % 100 == 0:\n",
    "    # 100번마다 로그 출력\n",
    "      print('Epoch {:4d}/{} Cost: {:.6f}'.format(\n",
    "          epoch + 1, epoch_count, cost.item()\n",
    "      ))\n",
    "    "
   ]
  },
  {
   "cell_type": "code",
   "execution_count": 33,
   "id": "1a627e6a-2e8d-480a-af0d-29ca8fdc6bc2",
   "metadata": {},
   "outputs": [],
   "source": [
    "# 다중 선형 회귀"
   ]
  },
  {
   "cell_type": "code",
   "execution_count": 34,
   "id": "44f96292-b02b-48b7-a2e1-e9bf50511097",
   "metadata": {},
   "outputs": [],
   "source": [
    "x_train = torch.FloatTensor([[73, 80, 75],\n",
    "                             [93, 88, 93],\n",
    "                             [89, 91, 90],\n",
    "                             [96, 98, 100],\n",
    "                             [73, 66, 70]])\n",
    "y_train = torch.FloatTensor([[152], [185], [180], [196], [142]])"
   ]
  },
  {
   "cell_type": "code",
   "execution_count": 35,
   "id": "4922a23e-2641-496f-a300-8244b1a94564",
   "metadata": {},
   "outputs": [
    {
     "data": {
      "text/plain": [
       "torch.Size([5, 3])"
      ]
     },
     "execution_count": 35,
     "metadata": {},
     "output_type": "execute_result"
    }
   ],
   "source": [
    "x_train.shape"
   ]
  },
  {
   "cell_type": "code",
   "execution_count": 36,
   "id": "7d083715-1b70-4009-87dc-ce93bffd166d",
   "metadata": {},
   "outputs": [],
   "source": []
  },
  {
   "cell_type": "code",
   "execution_count": 38,
   "id": "8a9d494b-3e3b-448d-9f48-d7b1acdbf0ef",
   "metadata": {},
   "outputs": [],
   "source": []
  },
  {
   "cell_type": "code",
   "execution_count": 40,
   "id": "9071f764-05f9-4125-bfa7-03d8db8f9f70",
   "metadata": {},
   "outputs": [
    {
     "data": {
      "text/plain": [
       "[Parameter containing:\n",
       " tensor([[0.4403, 0.4401, 0.2589]], requires_grad=True),\n",
       " Parameter containing:\n",
       " tensor([0.0038], requires_grad=True)]"
      ]
     },
     "execution_count": 40,
     "metadata": {},
     "output_type": "execute_result"
    }
   ],
   "source": [
    "list(model.parameters())"
   ]
  },
  {
   "cell_type": "code",
   "execution_count": 41,
   "id": "faf4ff93-2806-4f31-8a59-3de1de2abe2c",
   "metadata": {},
   "outputs": [
    {
     "name": "stdout",
     "output_type": "stream",
     "text": [
      "Epoch  100/1000 Cost: 0.290817\n",
      "Epoch  200/1000 Cost: 0.284276\n",
      "Epoch  300/1000 Cost: 0.278076\n",
      "Epoch  400/1000 Cost: 0.272202\n",
      "Epoch  500/1000 Cost: 0.266642\n",
      "Epoch  600/1000 Cost: 0.261367\n",
      "Epoch  700/1000 Cost: 0.256375\n",
      "Epoch  800/1000 Cost: 0.251649\n",
      "Epoch  900/1000 Cost: 0.247160\n",
      "Epoch 1000/1000 Cost: 0.242911\n"
     ]
    }
   ],
   "source": [
    "model = nn.Linear(3, 1)\n",
    "optimizer = torch.optim.SGD(model.parameters(), lr=1e-5)\n",
    "epoch_count = 1000\n",
    "for epoch in range(epoch_count):\n",
    "    \n",
    "    prediction = model(x_train)\n",
    "    \n",
    "    cost = F.mse_loss(prediction, y_train)\n",
    "    \n",
    "    optimizer.zero_grad()\n",
    "    \n",
    "    cost.backward()\n",
    "    \n",
    "    optimizer.step()\n",
    "    \n",
    "    if (epoch + 1) % 100 == 0:\n",
    "    # 100번마다 로그 출력\n",
    "      print('Epoch {:4d}/{} Cost: {:.6f}'.format(\n",
    "          epoch + 1, epoch_count, cost.item()\n",
    "      ))\n",
    "    "
   ]
  },
  {
   "cell_type": "code",
   "execution_count": 44,
   "id": "6785955b-9f98-4db8-b850-6378c13d66f1",
   "metadata": {},
   "outputs": [
    {
     "data": {
      "text/plain": [
       "tensor([[151.0890]], grad_fn=<AddmmBackward0>)"
      ]
     },
     "execution_count": 44,
     "metadata": {},
     "output_type": "execute_result"
    }
   ],
   "source": [
    "new_var =  torch.FloatTensor([[73, 80, 75]]) \n",
    "pred_y = model(new_var)\n",
    "pred_y"
   ]
  },
  {
   "cell_type": "code",
   "execution_count": null,
   "id": "84c65df2-f35d-470d-8fe4-f003b1bc9788",
   "metadata": {},
   "outputs": [],
   "source": []
  }
 ],
 "metadata": {
  "kernelspec": {
   "display_name": "py38_torch",
   "language": "python",
   "name": "py38_torch"
  },
  "language_info": {
   "codemirror_mode": {
    "name": "ipython",
    "version": 3
   },
   "file_extension": ".py",
   "mimetype": "text/x-python",
   "name": "python",
   "nbconvert_exporter": "python",
   "pygments_lexer": "ipython3",
   "version": "3.8.13"
  }
 },
 "nbformat": 4,
 "nbformat_minor": 5
}
